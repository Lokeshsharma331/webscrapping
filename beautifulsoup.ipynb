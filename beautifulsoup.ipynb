{
 "cells": [
  {
   "cell_type": "code",
   "execution_count": 17,
   "id": "99925415",
   "metadata": {},
   "outputs": [
    {
     "name": "stdout",
     "output_type": "stream",
     "text": [
      "Requirement already satisfied: bs4 in c:\\users\\lokesh sharma\\anaconda3\\lib\\site-packages (0.0.1)\n",
      "Requirement already satisfied: beautifulsoup4 in c:\\users\\lokesh sharma\\anaconda3\\lib\\site-packages (from bs4) (4.11.1)\n",
      "Requirement already satisfied: soupsieve>1.2 in c:\\users\\lokesh sharma\\anaconda3\\lib\\site-packages (from beautifulsoup4->bs4) (2.3.1)\n",
      "Note: you may need to restart the kernel to use updated packages.\n"
     ]
    }
   ],
   "source": [
    "pip install bs4"
   ]
  },
  {
   "cell_type": "code",
   "execution_count": 18,
   "id": "5006d351",
   "metadata": {},
   "outputs": [],
   "source": [
    "from bs4 import BeautifulSoup as bs\n",
    "import requests\n",
    "import os\n",
    "import pandas as pd"
   ]
  },
  {
   "cell_type": "code",
   "execution_count": 19,
   "id": "c9d1bdb4",
   "metadata": {},
   "outputs": [],
   "source": [
    "def fetch_html(start_year, end_year):\n",
    "    \n",
    "    for year in range(start_year,end_year+1):\n",
    "        for month in range(0,13):\n",
    "            \n",
    "            if month<10:\n",
    "                url=f'https://en.tutiempo.net/climate/0{month}-{year}/ws-421820.html'\n",
    "            else:\n",
    "                url = f'https://en.tutiempo.net/climate/{month}-{year}/ws-421820.html'\n",
    "                \n",
    "            data= requests.get(url).text\n",
    "            if not os.path.exists(f'Data1/html_data/{year}'):\n",
    "                os.makedirs(f'Data1/html_data/{year}')\n",
    "                \n",
    "            # file handling\n",
    "            with open(f'Data1/html_data/{year}/{month}.html','w') as f:\n",
    "                f.write(data)\n",
    "    "
   ]
  },
  {
   "cell_type": "code",
   "execution_count": 20,
   "id": "d61ec92f",
   "metadata": {},
   "outputs": [],
   "source": [
    "fetch_html(2013,2014)"
   ]
  },
  {
   "cell_type": "code",
   "execution_count": 21,
   "id": "1ad6c6e4",
   "metadata": {},
   "outputs": [],
   "source": [
    "def meta_data(month,year):\n",
    "    file_html = open(f\"Data/html_data/{year}/{month}.html\",'r')\n",
    "    text = file_html.read()\n",
    "    \n",
    "    temp_d = []\n",
    "    final_d = []\n",
    "    soup = bs(text)\n",
    "    for table in soup.find_all('table', {'class':'medias mensuales numspan'}):\n",
    "        for tbody in table:\n",
    "            for tr in tbody:\n",
    "                a = tr.text\n",
    "                temp_d.append(a)\n",
    "    \n",
    "    rows = len(temp_d)/15\n",
    "    for i in range(round(rows)): # 33\n",
    "        new_temp_d = []\n",
    "        for i in range(15):\n",
    "            new_temp_d.append(temp_d[0])\n",
    "            temp_d.pop(0)\n",
    "        final_d.append(new_temp_d)\n",
    "    \n",
    "    # remove unwanted rows\n",
    "    final_d.pop(len(final_d)-1) # last data\n",
    "    final_d.pop(0)\n",
    "    \n",
    "    # remove the unwanted column\n",
    "    for a in range(len(final_d)):\n",
    "        final_d[a].pop(6)\n",
    "        final_d[a].pop(13)        \n",
    "        final_d[a].pop(12)        \n",
    "        final_d[a].pop(11)        \n",
    "        final_d[a].pop(10)        \n",
    "        final_d[a].pop(9)\n",
    "        final_d[a].pop(0)  \n",
    "    \n",
    "    return final_d\n",
    "    "
   ]
  },
  {
   "cell_type": "code",
   "execution_count": 16,
   "id": "de92887c",
   "metadata": {},
   "outputs": [
    {
     "data": {
      "text/plain": [
       "[['13.2', '18.2', '9.2', '1021', '92', '0.8', '7.6', '11.1'],\n",
       " ['11.1', '18.3', '5', '1020.2', '80', '1.1', '8', '14.8'],\n",
       " ['12.7', '19.8', '5.2', '1017.9', '78', '1.3', '5.4', '14.8'],\n",
       " ['', '', '', '', '', '', '', ''],\n",
       " ['', '', '', '', '', '', '', ''],\n",
       " ['', '', '', '', '', '', '', ''],\n",
       " ['12.2', '19.7', '6.1', '1018', '74', '1', '3.9', '-'],\n",
       " ['11.9', '20.7', '4.4', '1017.9', '78', '0.8', '1.9', '7.6'],\n",
       " ['11.7', '20.7', '6.5', '1017.3', '89', '0.3', '0.9', '7.6'],\n",
       " ['', '', '', '', '', '', '', ''],\n",
       " ['', '', '', '', '', '', '', ''],\n",
       " ['', '', '', '', '', '', '', ''],\n",
       " ['13.9', '21.6', '7', '1019.6', '74', '0.8', '1.1', '9.4'],\n",
       " ['14.9', '22.1', '8.9', '1017.2', '78', '1', '2.8', '7.6'],\n",
       " ['12', '22.1', '9.6', '1019.7', '95', '0.3', '0.4', '3.5'],\n",
       " ['', '', '', '', '', '', '', ''],\n",
       " ['', '', '', '', '', '', '', ''],\n",
       " ['', '', '', '', '', '', '', ''],\n",
       " ['14.5', '21', '8.6', '1023.2', '88', '1.3', '3.5', '7.6'],\n",
       " ['14.6', '22.3', '9', '1021.2', '86', '1', '4.4', '9.4'],\n",
       " ['13.4', '22.3', '11.5', '1020.6', '98', '1.4', '6.9', '13'],\n",
       " ['', '', '', '', '', '', '', ''],\n",
       " ['', '', '', '', '', '', '', ''],\n",
       " ['', '', '', '', '', '', '', ''],\n",
       " ['11.7', '18.2', '9.4', '1019.9', '96', '0.5', '8.3', '11.1'],\n",
       " ['14.3', '20.3', '9.9', '1019.1', '88', '0.6', '8.9', '14.8'],\n",
       " ['16.6', '24', '10.1', '1018.8', '75', '1.3', '10', '14.8'],\n",
       " ['', '', '', '', '', '', '', ''],\n",
       " ['', '', '', '', '', '', '', ''],\n",
       " ['', '', '', '', '', '', '', ''],\n",
       " ['14.8', '21.1', '10', '1019.3', '86', '0.5', '3', '11.1']]"
      ]
     },
     "execution_count": 16,
     "metadata": {},
     "output_type": "execute_result"
    }
   ],
   "source": [
    "meta_data(1,2014)"
   ]
  },
  {
   "cell_type": "code",
   "execution_count": null,
   "id": "19eaf98f",
   "metadata": {},
   "outputs": [],
   "source": [
    "#data has lot of missing values. \n"
   ]
  },
  {
   "cell_type": "code",
   "execution_count": null,
   "id": "c78ac779",
   "metadata": {},
   "outputs": [],
   "source": []
  }
 ],
 "metadata": {
  "kernelspec": {
   "display_name": "Python 3 (ipykernel)",
   "language": "python",
   "name": "python3"
  },
  "language_info": {
   "codemirror_mode": {
    "name": "ipython",
    "version": 3
   },
   "file_extension": ".py",
   "mimetype": "text/x-python",
   "name": "python",
   "nbconvert_exporter": "python",
   "pygments_lexer": "ipython3",
   "version": "3.9.12"
  }
 },
 "nbformat": 4,
 "nbformat_minor": 5
}
